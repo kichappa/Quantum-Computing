{
 "cells": [
  {
   "cell_type": "code",
   "execution_count": null,
   "metadata": {},
   "outputs": [],
   "source": [
    "import numpy as np\n",
    "from qiskit import QuantumCircuit, ClassicalRegister, QuantumRegister\n",
    "from qiskit import execute \n",
    "from qiskit.tools.visualization import circuit_drawer\n",
    "import random\n",
    "from qiskit import available_backends, execute, register, get_backend\n",
    "from qiskit.tools.qi.qi import state_fidelity\n",
    "from qiskit import Aer\n",
    "import errno as errno\n",
    "\n",
    "# Create a Quantum Register with 3 qubits.\n",
    "q = QuantumRegister(3, 'q')\n",
    "c = ClassicalRegister(1, 'c')\n",
    "\n",
    "# Create a Quantum Circuit acting on the q register\n",
    "qc = QuantumCircuit(q, c)\n",
    "\n",
    "a = random.uniform(0, 3.1415/2)\n",
    "b = random.uniform(0, 3.1415/2)\n",
    "qc.u2(a, b, q[2])\n",
    "qc.cx(q[1], q[2])"
   ]
  },
  {
   "cell_type": "code",
   "execution_count": null,
   "metadata": {},
   "outputs": [],
   "source": [
    "qc.measure(q[1], c[0])\n",
    "\n",
    "circuit_drawer(qc)"
   ]
  },
  {
   "cell_type": "code",
   "execution_count": null,
   "metadata": {},
   "outputs": [],
   "source": [
    "Delta[50];\n",
    "Dleta[0] = random.uniform(0, 3.1415)\n",
    "\n",
    "i = 0\n",
    "\n",
    "if c[0]==1:\n",
    "    Delta[i+1] = Delta[i]*((1-c[0]^i)*e + m^i /e)\n",
    "    a = random.uniform(-Delta[i]/2, Delta[i]/2)\n",
    "    b = random.uniform(-Delta[i]/2, Delta[i]/2)\n",
    "    \n",
    "    "
   ]
  },
  {
   "cell_type": "code",
   "execution_count": null,
   "metadata": {},
   "outputs": [],
   "source": [
    "from qiskit.tools.visualization import circuit_drawer\n",
    "\n",
    "circuit_drawer(circ)"
   ]
  }
 ],
 "metadata": {
  "kernelspec": {
   "display_name": "Python 3",
   "language": "python",
   "name": "python3"
  },
  "language_info": {
   "codemirror_mode": {
    "name": "ipython",
    "version": 3
   },
   "file_extension": ".py",
   "mimetype": "text/x-python",
   "name": "python",
   "nbconvert_exporter": "python",
   "pygments_lexer": "ipython3",
   "version": "3.7.0"
  }
 },
 "nbformat": 4,
 "nbformat_minor": 2
}
