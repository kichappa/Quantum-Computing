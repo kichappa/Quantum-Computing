{
 "cells": [
  {
   "cell_type": "code",
   "execution_count": null,
   "metadata": {},
   "outputs": [],
   "source": [
    "import numpy\n",
    "from math import pi\n",
    "\n",
    "from qiskit import QuantumCircuit, ClassicalRegister, QuantumRegister\n",
    "from qiskit import available_backends, execute, register, get_backend\n",
    "from qiskit.tools.visualization import circuit_drawer\n",
    "from qiskit.tools.qi.qi import state_fidelity\n",
    "from qiskit import Aer\n",
    "import random \n",
    "delta = pi\n",
    "eta = 0.6\n",
    "import array\n",
    "aa = random.uniform(-delta/2, delta/2)\n",
    "bb = random.uniform(-delta/2, delta/2)\n",
    "a = array.array('d',[aa])\n",
    "b = array.array('d',[bb])\n",
    "\n",
    "q = QuantumRegister(5, 'q')\n",
    "c = ClassicalRegister()\n",
    "qc = QuantumCircuit(q)\n",
    "\n",
    "qc.u3(pi/2,pi/2,pi/2,q[2])\n",
    "qc.cx(q[2],q[1])\n",
    "\n",
    "qc.cu3(a[0],-pi/2,pi/2,q[1],q[0])\n",
    "qc.crz(b[0],q[1],q[0])\n",
    "qc.crz(-b[0],q[1],q[2])\n",
    "qc.cu3(-a[0],-pi/2,pi/2,q[1],q[2])\n",
    "\n",
    "qc.cx(q[1], q[3])\n",
    "qc.cx(q[2], q[1])\n",
    "\n",
    "qc.cx(q[1], q[4])\n",
    "\n",
    "#i = 1\n",
    "#for i in range(1,3):\n",
    "    \n",
    "\n",
    "circuit_drawer(qc)"
   ]
  }
 ],
 "metadata": {
  "kernelspec": {
   "display_name": "Python 3",
   "language": "python",
   "name": "python3"
  }
 },
 "nbformat": 4,
 "nbformat_minor": 2
}
